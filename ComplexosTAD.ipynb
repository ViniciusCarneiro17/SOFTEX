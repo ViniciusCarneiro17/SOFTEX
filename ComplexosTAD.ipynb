{
  "nbformat": 4,
  "nbformat_minor": 0,
  "metadata": {
    "colab": {
      "name": "ComplexosTAD.ipynb",
      "provenance": [],
      "authorship_tag": "ABX9TyPa306fYagWoS8IKCtqwh4a",
      "include_colab_link": true
    },
    "kernelspec": {
      "name": "python3",
      "display_name": "Python 3"
    },
    "language_info": {
      "name": "python"
    }
  },
  "cells": [
    {
      "cell_type": "markdown",
      "metadata": {
        "id": "view-in-github",
        "colab_type": "text"
      },
      "source": [
        "<a href=\"https://colab.research.google.com/github/ViniciusCarneiro17/SOFTEX/blob/main/ComplexosTAD.ipynb\" target=\"_parent\"><img src=\"https://colab.research.google.com/assets/colab-badge.svg\" alt=\"Open In Colab\"/></a>"
      ]
    },
    {
      "cell_type": "markdown",
      "source": [
        "Crie um tipo abstrato de dado (TAD) para manipular números complexos na linguagem Python.\n",
        "O método deve:\n",
        "\n",
        "- calcular três números complexos;\n",
        "- realizar todas as operações básicas;\n",
        "- e imprimir as propriedades real e img do números. "
      ],
      "metadata": {
        "id": "NqvzUaWYYxDq"
      }
    },
    {
      "cell_type": "markdown",
      "source": [
        "##Cálculo dos três números complexos"
      ],
      "metadata": {
        "id": "Nc8z-Y2ubG1a"
      }
    },
    {
      "cell_type": "code",
      "source": [
        "class complexo ():\n",
        "  a = 2j\n",
        "  def geta (self):\n",
        "    return self.a\n",
        "  def seta (self, novoa):\n",
        "    self.a = novoa\n",
        "C = complexo()\n",
        "C.geta()\n"
      ],
      "metadata": {
        "colab": {
          "base_uri": "https://localhost:8080/"
        },
        "id": "JO_8fOANPA9y",
        "outputId": "024b0e1d-8433-443e-cf47-bccd2dbf4c36"
      },
      "execution_count": 83,
      "outputs": [
        {
          "output_type": "execute_result",
          "data": {
            "text/plain": [
              "2j"
            ]
          },
          "metadata": {},
          "execution_count": 83
        }
      ]
    },
    {
      "cell_type": "code",
      "source": [
        "class complexo ():\n",
        "  a = 2j\n",
        "  def geta (self):\n",
        "    return self.a\n",
        "  def seta (self, novoa):\n",
        "    self.a = novoa\n",
        "C = complexo()\n",
        "C.geta()\n",
        "C.seta(3+2j)\n",
        "C.geta()"
      ],
      "metadata": {
        "colab": {
          "base_uri": "https://localhost:8080/"
        },
        "id": "1jXC9O-gYRzn",
        "outputId": "c9f56ee2-f8ed-4289-aa1c-affdc6654d20"
      },
      "execution_count": 84,
      "outputs": [
        {
          "output_type": "execute_result",
          "data": {
            "text/plain": [
              "(3+2j)"
            ]
          },
          "metadata": {},
          "execution_count": 84
        }
      ]
    },
    {
      "cell_type": "code",
      "source": [
        "class complexo ():\n",
        "  a = 2j\n",
        "  def geta (self):\n",
        "    return self.a\n",
        "  def seta (self, novoa):\n",
        "    self.a = novoa\n",
        "C = complexo()\n",
        "C.geta()\n",
        "C.seta(3+2j)\n",
        "C.geta()\n",
        "C.seta(2+3J)\n",
        "C.geta()"
      ],
      "metadata": {
        "colab": {
          "base_uri": "https://localhost:8080/"
        },
        "id": "LscYyFy7YooS",
        "outputId": "108a2b48-0d1e-4fe8-aaaf-2b46f356777f"
      },
      "execution_count": 85,
      "outputs": [
        {
          "output_type": "execute_result",
          "data": {
            "text/plain": [
              "(2+3j)"
            ]
          },
          "metadata": {},
          "execution_count": 85
        }
      ]
    },
    {
      "cell_type": "markdown",
      "source": [
        "##Operações básicas impressões das propriedades real e img do números."
      ],
      "metadata": {
        "id": "cO2MqM2Fbg6N"
      }
    },
    {
      "cell_type": "code",
      "source": [
        "\n",
        "\n",
        "class somComplexo ():\n",
        "  a = 3+2j\n",
        "  b = 2+3J\n",
        "  def soma(self, a, b):\n",
        "    a = somComplexo.a + somComplexo.b\n",
        "    return a\n",
        "S = somComplexo() \n",
        "print('soma:')\n",
        "S.soma(3+2j, 2+3J)\n"
      ],
      "metadata": {
        "colab": {
          "base_uri": "https://localhost:8080/"
        },
        "id": "VQEUQ0UtYlTs",
        "outputId": "dc0c3213-e654-4dd3-8d88-449f79ca0783"
      },
      "execution_count": 86,
      "outputs": [
        {
          "output_type": "stream",
          "name": "stdout",
          "text": [
            "soma:\n"
          ]
        },
        {
          "output_type": "execute_result",
          "data": {
            "text/plain": [
              "(5+5j)"
            ]
          },
          "metadata": {},
          "execution_count": 86
        }
      ]
    },
    {
      "cell_type": "code",
      "source": [
        "\n",
        "class subComplexo ():\n",
        "  a = 3+2j\n",
        "  b = 2+3J\n",
        "  def sub(self, a, b):\n",
        "    res = subComplexo.a - subComplexo.b\n",
        "    return res   \n",
        "S = subComplexo() \n",
        "print('subtração:')\n",
        "S.sub(3+2j, 2+3J)\n"
      ],
      "metadata": {
        "colab": {
          "base_uri": "https://localhost:8080/"
        },
        "id": "ZNArS4et9vjs",
        "outputId": "bc5d248b-58cf-4aef-e657-3f8dabe7470a"
      },
      "execution_count": 64,
      "outputs": [
        {
          "output_type": "stream",
          "name": "stdout",
          "text": [
            "subtração:\n"
          ]
        },
        {
          "output_type": "execute_result",
          "data": {
            "text/plain": [
              "(1-1j)"
            ]
          },
          "metadata": {},
          "execution_count": 64
        }
      ]
    },
    {
      "cell_type": "code",
      "source": [
        "class multComplexo ():\n",
        "  a = 3+2j\n",
        "  b = 2+3J\n",
        "  def mult(self, a, b):\n",
        "    res = multComplexo.a * multComplexo.b\n",
        "    return res   \n",
        "M = multComplexo() \n",
        "print('multiplicação:')\n",
        "M.mult(3+2j, 2+3J)\n"
      ],
      "metadata": {
        "colab": {
          "base_uri": "https://localhost:8080/"
        },
        "id": "MescnP9xNRMm",
        "outputId": "d57ab616-ad1b-433e-a652-f880df4cc40a"
      },
      "execution_count": 66,
      "outputs": [
        {
          "output_type": "stream",
          "name": "stdout",
          "text": [
            "multiplicação:\n"
          ]
        },
        {
          "output_type": "execute_result",
          "data": {
            "text/plain": [
              "13j"
            ]
          },
          "metadata": {},
          "execution_count": 66
        }
      ]
    },
    {
      "cell_type": "code",
      "source": [
        "class divComplexo ():\n",
        "  a = 3+2j\n",
        "  b = 2+3J\n",
        "  def div(self, a, b):\n",
        "    res = divComplexo.a / divComplexo.b\n",
        "    return res   \n",
        "D = divComplexo() \n",
        "print('divisão:')\n",
        "D.div(3+2j, 2+3J)\n"
      ],
      "metadata": {
        "colab": {
          "base_uri": "https://localhost:8080/"
        },
        "id": "F6MEH-1OOnsX",
        "outputId": "d9e47178-308a-4d5c-f4ed-0b48d2ec5db1"
      },
      "execution_count": 67,
      "outputs": [
        {
          "output_type": "stream",
          "name": "stdout",
          "text": [
            "divisão:\n"
          ]
        },
        {
          "output_type": "execute_result",
          "data": {
            "text/plain": [
              "(0.9230769230769231-0.38461538461538464j)"
            ]
          },
          "metadata": {},
          "execution_count": 67
        }
      ]
    }
  ]
}