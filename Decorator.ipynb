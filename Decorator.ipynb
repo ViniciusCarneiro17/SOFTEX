{
  "nbformat": 4,
  "nbformat_minor": 0,
  "metadata": {
    "colab": {
      "name": "Decorator.ipynb",
      "provenance": [],
      "authorship_tag": "ABX9TyOhdQ0FISkIRVEBLl8gbeRR",
      "include_colab_link": true
    },
    "kernelspec": {
      "name": "python3",
      "display_name": "Python 3"
    },
    "language_info": {
      "name": "python"
    }
  },
  "cells": [
    {
      "cell_type": "markdown",
      "metadata": {
        "id": "view-in-github",
        "colab_type": "text"
      },
      "source": [
        "<a href=\"https://colab.research.google.com/github/ViniciusCarneiro17/SOFTEX/blob/main/Decorator.ipynb\" target=\"_parent\"><img src=\"https://colab.research.google.com/assets/colab-badge.svg\" alt=\"Open In Colab\"/></a>"
      ]
    },
    {
      "cell_type": "markdown",
      "source": [
        "#Escolha e descreva um padrão de projetos."
      ],
      "metadata": {
        "id": "gn3T9HopnB_n"
      }
    },
    {
      "cell_type": "markdown",
      "source": [
        "O **Decorator** é um padrão estrutural que permite adicionar novos comportamentos aos objetos dinamicamente, colocando-os dentro de objetos wrapper especiais.\n",
        "\n",
        "Usando decoradores, você pode agrupar objetos inúmeras vezes, pois os objetos de destino e os decoradores seguem a mesma interface. O objeto resultante terá um comportamento de empilhamento de todos os wrappers.\n",
        "\n",
        "Fonte: <https://refactoring.guru/pt-br/design-patterns/decorator/python/example#>. Acessado em 10/08/2022\n",
        "\n"
      ],
      "metadata": {
        "id": "NqwWGRotnTmS"
      }
    },
    {
      "cell_type": "code",
      "source": [
        "# Exemplo de implementação\n",
        "\n",
        "import time\n",
        "\n",
        "# Definindo a função para calcular tempo de execução do código\n",
        "def Calc_tempo(cronometro):\n",
        "    def wrapper():\n",
        "        # Determinando tempo de execução\n",
        "        inicio = time.time()\n",
        "        cronometro()\n",
        "        fim = time.time()\n",
        "\n",
        "        # Tela de saída\n",
        "        print(\"[{cronometro}] Tempo de execução cronometrado: {tempo}\".format( cronometro = cronometro.__name__, tempo = str(fim - inicio)))\n",
        "\n",
        "    return wrapper\n",
        "\n",
        "# Aplicando o Decorator para determinar o tempo do laço\n",
        "@Calc_tempo\n",
        "def main():\n",
        "    for i in range(0, 20000000):\n",
        "        pass\n",
        "\n",
        "# Função main\n",
        "main()"
      ],
      "metadata": {
        "colab": {
          "base_uri": "https://localhost:8080/"
        },
        "id": "XgJ9BSopiNd7",
        "outputId": "7208117a-94bc-4e79-f4f0-74023bbcdd0c"
      },
      "execution_count": 5,
      "outputs": [
        {
          "output_type": "stream",
          "name": "stdout",
          "text": [
            "[main] Tempo de execução cronometrado: 0.5621116161346436\n"
          ]
        }
      ]
    }
  ]
}