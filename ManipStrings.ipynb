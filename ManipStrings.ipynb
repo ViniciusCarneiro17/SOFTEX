{
  "nbformat": 4,
  "nbformat_minor": 0,
  "metadata": {
    "colab": {
      "name": "ManipStrings.ipynb",
      "provenance": [],
      "authorship_tag": "ABX9TyNyyYRTwq1OF5Cy4GumVJyo",
      "include_colab_link": true
    },
    "kernelspec": {
      "name": "python3",
      "display_name": "Python 3"
    },
    "language_info": {
      "name": "python"
    }
  },
  "cells": [
    {
      "cell_type": "markdown",
      "metadata": {
        "id": "view-in-github",
        "colab_type": "text"
      },
      "source": [
        "<a href=\"https://colab.research.google.com/github/ViniciusCarneiro17/SOFTEX/blob/main/ManipStrings.ipynb\" target=\"_parent\"><img src=\"https://colab.research.google.com/assets/colab-badge.svg\" alt=\"Open In Colab\"/></a>"
      ]
    },
    {
      "cell_type": "markdown",
      "source": [
        "#Estruture três códigos, os quais devem conter uma função de manipulação de string que obtenha resultado."
      ],
      "metadata": {
        "id": "E5FhTfWVfRIZ"
      }
    },
    {
      "cell_type": "code",
      "execution_count": 19,
      "metadata": {
        "colab": {
          "base_uri": "https://localhost:8080/"
        },
        "id": "vxj0QOAyfQcH",
        "outputId": "17fc2a27-4251-4224-ea86-51d37fadc60f"
      },
      "outputs": [
        {
          "output_type": "stream",
          "name": "stdout",
          "text": [
            "Alterando o nome do elevador, abreviando para os 4 primeiros dígitos: elev\n",
            "O status da porta em maiúsculo: FECHADA\n",
            "Passando o status da carga por extenso: zero\n"
          ]
        }
      ],
      "source": [
        "\n",
        "class elevador:\n",
        "  def __init__(self, nome, carga, porta):\n",
        "    self.__nome = nome\n",
        "    self.__carga = carga\n",
        "    self.__porta = porta\n",
        "\n",
        "    #Função de manipulação string 1\n",
        "  def alterarnome (self,alterar):\n",
        "    if alterar == True:\n",
        "      self.__nome = self.__nome[:4]\n",
        "      print(\"Alterando o nome do elevador, abreviando para os 4 primeiros dígitos: {}\".format(self.__nome))\n",
        " \n",
        "  #Função de manipulação  de string 2\n",
        "  def maiusculo(self, maiusc):\n",
        "    if maiusc == True:\n",
        "      self.__porta = self.__porta.upper()\n",
        "      print (\"O status da porta em maiúsculo: {}\".format(self.__porta))\n",
        "  \n",
        "  #Função de manipulação  de string 3\n",
        "  def substituindo(self):\n",
        "    if self.__carga == 0:\n",
        "      self.__carga = str (self.__carga)\n",
        "      self.__carga = self.__carga.replace(self.__carga,\"zero\")\n",
        "      print (\"Passando o status da carga por extenso: {}\".format(self.__carga))\n",
        "\n",
        "#Testando as manipulações\n",
        "\n",
        "elevador1 = elevador(\"elevador1\", 0 , \"fechada\")\n",
        "\n",
        "elevador1.alterarnome(True)\n",
        "elevador1.maiusculo(True)\n",
        "elevador1.substituindo()\n",
        "\n",
        "\n"
      ]
    },
    {
      "cell_type": "code",
      "source": [
        ""
      ],
      "metadata": {
        "id": "5fNg1hDHjUEX"
      },
      "execution_count": null,
      "outputs": []
    }
  ]
}