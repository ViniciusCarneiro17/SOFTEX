{
  "nbformat": 4,
  "nbformat_minor": 0,
  "metadata": {
    "colab": {
      "name": "Get&Set.ipynb",
      "provenance": [],
      "authorship_tag": "ABX9TyPkoIo50qKyEpeXAHPHoWni",
      "include_colab_link": true
    },
    "kernelspec": {
      "name": "python3",
      "display_name": "Python 3"
    },
    "language_info": {
      "name": "python"
    }
  },
  "cells": [
    {
      "cell_type": "markdown",
      "metadata": {
        "id": "view-in-github",
        "colab_type": "text"
      },
      "source": [
        "<a href=\"https://colab.research.google.com/github/ViniciusCarneiro17/SOFTEX/blob/main/Get%26Set.ipynb\" target=\"_parent\"><img src=\"https://colab.research.google.com/assets/colab-badge.svg\" alt=\"Open In Colab\"/></a>"
      ]
    },
    {
      "cell_type": "markdown",
      "source": [
        "Crie uma classe e insira nela, no mínimo, dois atributos, os quais devem ter um método acessor (get) e um método modificador (set) para cada. Defina um objeto para cada atributo e elabore um construtor para criar alguma regra.\n",
        "\n",
        "A atividade pode ser realizada em qualquer linguagem de programação ou apenas utilizando algoritmos."
      ],
      "metadata": {
        "id": "k6r7zYTE4aSD"
      }
    },
    {
      "cell_type": "code",
      "execution_count": 7,
      "metadata": {
        "colab": {
          "base_uri": "https://localhost:8080/"
        },
        "id": "jLwgNBcx4VKQ",
        "outputId": "4920e9fd-6bf8-4721-8d27-0cf543e1a3be"
      },
      "outputs": [
        {
          "output_type": "stream",
          "name": "stdout",
          "text": [
            "No Edf. A, o elevador está vazio e a porta está fechada.\n",
            "No Edf. B, a carga é de 3 pessoas e a porta está aberta.\n"
          ]
        }
      ],
      "source": [
        "class elevador:\n",
        "  def __init__ (self, local, carga, porta):\n",
        "    self.__local = local\n",
        "    self.__carga = carga\n",
        "    self.__porta = porta\n",
        "\n",
        "  def get_carga (self):\n",
        "    return  self.__carga\n",
        "\n",
        "  def get_porta (self):\n",
        "    return self.__porta\n",
        "\n",
        "  def set_porta(self, aberto):\n",
        "    if aberto == \"SIM\":\n",
        "      print (\"No Edf. {}, a carga é de {} pessoas e a porta está fechada.\".format(self.__local, self.__carga))\n",
        "    elif aberto == \"NÃO\":\n",
        "      print (\"No Edf. {}, a carga é de {} pessoas e a porta está aberta.\".format(self.__local, self.__carga))\n",
        "    else:\n",
        "      raise Exception (\"Condição inexistente\")\n",
        "\n",
        "  def set_carga(self, vazio ):\n",
        "    if vazio == \"SIM\":\n",
        "      print (\"No Edf. {}, o elevador está vazio e a porta está {}.\".format(self.__local, self.__porta))\n",
        "    elif vazio == \"NÃO\":\n",
        "      print (\"No Edf. {}, O elevador tem uma carga de {} pessoas e a porta está {}.\".format(self.__local, self.__porta))\n",
        "    else:\n",
        "      raise Exception (\"Condição inexistente\")\n",
        "\n",
        "\n",
        "novo_elevador = elevador(\"A\", 0 ,\"fechada\")\n",
        "outro_elevador = elevador (\"B\", 3, \"aberta\")\n",
        "\n",
        "novo_elevador.set_carga(\"SIM\")\n",
        "outro_elevador.set_porta(\"NÃO\")\n",
        "\n"
      ]
    }
  ]
}