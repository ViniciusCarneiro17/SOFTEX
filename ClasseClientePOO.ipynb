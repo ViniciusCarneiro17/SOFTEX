{
  "nbformat": 4,
  "nbformat_minor": 0,
  "metadata": {
    "colab": {
      "name": "ClasseClientePOO.ipynb",
      "provenance": [],
      "authorship_tag": "ABX9TyObrR6Xb6UpGGiebUFF3q6m",
      "include_colab_link": true
    },
    "kernelspec": {
      "name": "python3",
      "display_name": "Python 3"
    },
    "language_info": {
      "name": "python"
    }
  },
  "cells": [
    {
      "cell_type": "markdown",
      "metadata": {
        "id": "view-in-github",
        "colab_type": "text"
      },
      "source": [
        "<a href=\"https://colab.research.google.com/github/ViniciusCarneiro17/SOFTEX/blob/main/ClasseClientePOO.ipynb\" target=\"_parent\"><img src=\"https://colab.research.google.com/assets/colab-badge.svg\" alt=\"Open In Colab\"/></a>"
      ]
    },
    {
      "cell_type": "markdown",
      "source": [
        "#Crie uma classe de sua preferência com, no mínimo, uma variável, um método e um incremento. Depois, desenvolva três ou mais objetos para testar o código."
      ],
      "metadata": {
        "id": "cDuG-Qh2fITE"
      }
    },
    {
      "cell_type": "code",
      "execution_count": 27,
      "metadata": {
        "colab": {
          "base_uri": "https://localhost:8080/"
        },
        "id": "mAijHB6OIhi_",
        "outputId": "87ebc86c-1dcc-4988-f2d5-608011e49ddb"
      },
      "outputs": [
        {
          "output_type": "stream",
          "name": "stdout",
          "text": [
            "O valor da fatura de Ana, 18 anos, coresponde a  130 reais\n",
            "O valor da fatura de Pedro, 33 anos, coresponde a  120 reais\n",
            "O valor da fatura de João, 45 anos, coresponde a  240 reais\n"
          ]
        }
      ],
      "source": [
        "# Criando Classe\n",
        "\n",
        "class Cliente:\n",
        "\n",
        "\n",
        "    def __init__(self, nome, mensalidade, idade):\n",
        "        self.__nome = nome\n",
        "        self.__mensalidade = mensalidade\n",
        "        self.__idade  = idade\n",
        "\n",
        "\n",
        "    def fatura(self):\n",
        "\n",
        "        print(\"O valor da fatura de {}, {} anos, coresponde a  {} reais\".format(self.__nome, self.__idade, self.__mensalidade))\n",
        "\n",
        "\n",
        "    def multa(self, valor):\n",
        "        self.__mensalidade += valor\n",
        "\n",
        "    def desconto(self, valor):\n",
        "        self.__mensalidade -= valor\n",
        "\n",
        "    @property\n",
        "    def mensalidade(self):\n",
        "      return self.__mensalidade\n",
        "\n",
        "    @property\n",
        "    def nome(self):\n",
        "      return self.__nome\n",
        "\n",
        "    @property\n",
        "    def idade (self):\n",
        "      return self.__idade\n",
        "\n",
        "# Testando o código\n",
        "\n",
        "# Objeto 1\n",
        "\n",
        "meu_cliente = Cliente(\"Ana\", 120, 18)\n",
        "\n",
        "meu_cliente.multa(10)\n",
        "meu_cliente.fatura()\n",
        "\n",
        "# Objeto 2\n",
        "\n",
        "outro_cliente = Cliente(\"Pedro\", 160, 33)\n",
        "\n",
        "outro_cliente.desconto(40)\n",
        "outro_cliente.fatura()\n",
        "\n",
        "# Objeto 3\n",
        "\n",
        "novo_cliente = Cliente (\"João\", 220, 45)\n",
        "\n",
        "novo_cliente.desconto(30)\n",
        "novo_cliente.multa(50)\n",
        "novo_cliente.fatura()\n"
      ]
    }
  ]
}