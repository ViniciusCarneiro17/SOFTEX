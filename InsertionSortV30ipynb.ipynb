{
  "nbformat": 4,
  "nbformat_minor": 0,
  "metadata": {
    "colab": {
      "name": "InsertionSortV30ipynb",
      "provenance": [],
      "authorship_tag": "ABX9TyMSRfOHhcmM8UVl0NYcybUb",
      "include_colab_link": true
    },
    "kernelspec": {
      "name": "python3",
      "display_name": "Python 3"
    },
    "language_info": {
      "name": "python"
    }
  },
  "cells": [
    {
      "cell_type": "markdown",
      "metadata": {
        "id": "view-in-github",
        "colab_type": "text"
      },
      "source": [
        "<a href=\"https://colab.research.google.com/github/ViniciusCarneiro17/SOFTEX/blob/main/InsertionSortV30ipynb.ipynb\" target=\"_parent\"><img src=\"https://colab.research.google.com/assets/colab-badge.svg\" alt=\"Open In Colab\"/></a>"
      ]
    },
    {
      "cell_type": "markdown",
      "source": [
        "Criando vetor de tamanho 30 utilizando apenas números ímpares"
      ],
      "metadata": {
        "id": "kyZGM96TdiPR"
      }
    },
    {
      "cell_type": "code",
      "source": [
        "L = []\n",
        "x = 0\n",
        "while x < 30:\n",
        "  try:\n",
        "    Li = int(input(\"Insira um valor ímpar no vetor:\"))\n",
        "    if Li%2 == 0:\n",
        "      print(\"Número par, favor inserir um valor válido\")\n",
        "    elif Li%2 != 0:\n",
        "      L.append(Li)\n",
        "      print(L) \n",
        "      x = x + 1\n",
        "  except:\n",
        "    print(\"Valor inválido, favor inserir um número inteiro\")\n",
        "print(\"Vetor = \" , L)\n",
        "    "
      ],
      "metadata": {
        "id": "c_cXYqhVSnra",
        "colab": {
          "base_uri": "https://localhost:8080/"
        },
        "outputId": "6283650e-1d80-4502-e1e5-b280eeacb841"
      },
      "execution_count": 13,
      "outputs": [
        {
          "output_type": "stream",
          "name": "stdout",
          "text": [
            "Insira um valor ímpar no vetor:5\n",
            "[5]\n",
            "Insira um valor ímpar no vetor:7\n",
            "[5, 7]\n",
            "Insira um valor ímpar no vetor:9\n",
            "[5, 7, 9]\n",
            "Insira um valor ímpar no vetor:11\n",
            "[5, 7, 9, 11]\n",
            "Insira um valor ímpar no vetor:13\n",
            "[5, 7, 9, 11, 13]\n",
            "Insira um valor ímpar no vetor:15\n",
            "[5, 7, 9, 11, 13, 15]\n",
            "Insira um valor ímpar no vetor:17\n",
            "[5, 7, 9, 11, 13, 15, 17]\n",
            "Insira um valor ímpar no vetor:19\n",
            "[5, 7, 9, 11, 13, 15, 17, 19]\n",
            "Insira um valor ímpar no vetor:21\n",
            "[5, 7, 9, 11, 13, 15, 17, 19, 21]\n",
            "Insira um valor ímpar no vetor:23\n",
            "[5, 7, 9, 11, 13, 15, 17, 19, 21, 23]\n",
            "Insira um valor ímpar no vetor:25\n",
            "[5, 7, 9, 11, 13, 15, 17, 19, 21, 23, 25]\n",
            "Insira um valor ímpar no vetor:27\n",
            "[5, 7, 9, 11, 13, 15, 17, 19, 21, 23, 25, 27]\n",
            "Insira um valor ímpar no vetor:29\n",
            "[5, 7, 9, 11, 13, 15, 17, 19, 21, 23, 25, 27, 29]\n",
            "Insira um valor ímpar no vetor:31\n",
            "[5, 7, 9, 11, 13, 15, 17, 19, 21, 23, 25, 27, 29, 31]\n",
            "Insira um valor ímpar no vetor:33\n",
            "[5, 7, 9, 11, 13, 15, 17, 19, 21, 23, 25, 27, 29, 31, 33]\n",
            "Insira um valor ímpar no vetor:35\n",
            "[5, 7, 9, 11, 13, 15, 17, 19, 21, 23, 25, 27, 29, 31, 33, 35]\n",
            "Insira um valor ímpar no vetor:37\n",
            "[5, 7, 9, 11, 13, 15, 17, 19, 21, 23, 25, 27, 29, 31, 33, 35, 37]\n",
            "Insira um valor ímpar no vetor:39\n",
            "[5, 7, 9, 11, 13, 15, 17, 19, 21, 23, 25, 27, 29, 31, 33, 35, 37, 39]\n",
            "Insira um valor ímpar no vetor:41\n",
            "[5, 7, 9, 11, 13, 15, 17, 19, 21, 23, 25, 27, 29, 31, 33, 35, 37, 39, 41]\n",
            "Insira um valor ímpar no vetor:43\n",
            "[5, 7, 9, 11, 13, 15, 17, 19, 21, 23, 25, 27, 29, 31, 33, 35, 37, 39, 41, 43]\n",
            "Insira um valor ímpar no vetor:45\n",
            "[5, 7, 9, 11, 13, 15, 17, 19, 21, 23, 25, 27, 29, 31, 33, 35, 37, 39, 41, 43, 45]\n",
            "Insira um valor ímpar no vetor:47\n",
            "[5, 7, 9, 11, 13, 15, 17, 19, 21, 23, 25, 27, 29, 31, 33, 35, 37, 39, 41, 43, 45, 47]\n",
            "Insira um valor ímpar no vetor:49\n",
            "[5, 7, 9, 11, 13, 15, 17, 19, 21, 23, 25, 27, 29, 31, 33, 35, 37, 39, 41, 43, 45, 47, 49]\n",
            "Insira um valor ímpar no vetor:51\n",
            "[5, 7, 9, 11, 13, 15, 17, 19, 21, 23, 25, 27, 29, 31, 33, 35, 37, 39, 41, 43, 45, 47, 49, 51]\n",
            "Insira um valor ímpar no vetor:53\n",
            "[5, 7, 9, 11, 13, 15, 17, 19, 21, 23, 25, 27, 29, 31, 33, 35, 37, 39, 41, 43, 45, 47, 49, 51, 53]\n",
            "Insira um valor ímpar no vetor:55\n",
            "[5, 7, 9, 11, 13, 15, 17, 19, 21, 23, 25, 27, 29, 31, 33, 35, 37, 39, 41, 43, 45, 47, 49, 51, 53, 55]\n",
            "Insira um valor ímpar no vetor:57\n",
            "[5, 7, 9, 11, 13, 15, 17, 19, 21, 23, 25, 27, 29, 31, 33, 35, 37, 39, 41, 43, 45, 47, 49, 51, 53, 55, 57]\n",
            "Insira um valor ímpar no vetor:59\n",
            "[5, 7, 9, 11, 13, 15, 17, 19, 21, 23, 25, 27, 29, 31, 33, 35, 37, 39, 41, 43, 45, 47, 49, 51, 53, 55, 57, 59]\n",
            "Insira um valor ímpar no vetor:61\n",
            "[5, 7, 9, 11, 13, 15, 17, 19, 21, 23, 25, 27, 29, 31, 33, 35, 37, 39, 41, 43, 45, 47, 49, 51, 53, 55, 57, 59, 61]\n",
            "Insira um valor ímpar no vetor:3\n",
            "[5, 7, 9, 11, 13, 15, 17, 19, 21, 23, 25, 27, 29, 31, 33, 35, 37, 39, 41, 43, 45, 47, 49, 51, 53, 55, 57, 59, 61, 3]\n",
            "Vetor =  [5, 7, 9, 11, 13, 15, 17, 19, 21, 23, 25, 27, 29, 31, 33, 35, 37, 39, 41, 43, 45, 47, 49, 51, 53, 55, 57, 59, 61, 3]\n"
          ]
        }
      ]
    },
    {
      "cell_type": "markdown",
      "source": [
        "Ordenando o vetor (Insertion Sort)"
      ],
      "metadata": {
        "id": "uAa62UzM7Ij9"
      }
    },
    {
      "cell_type": "code",
      "source": [
        "for i in range (29):\n",
        "\n",
        "  y = L[29 - i] \n",
        "  z = L [28 - i]\n",
        "  w = 0\n",
        "\n",
        "  while  w < 30:\n",
        "    if y < z:\n",
        "      L[29 - i] = z\n",
        "      L[28 - i] = y\n",
        "    w = w + 1\n",
        "\n",
        "print(L)\n",
        "\n"
      ],
      "metadata": {
        "colab": {
          "base_uri": "https://localhost:8080/"
        },
        "id": "52gYIbya7XBY",
        "outputId": "90a2bcea-04e2-445f-bee7-d614d5f01314"
      },
      "execution_count": 15,
      "outputs": [
        {
          "output_type": "stream",
          "name": "stdout",
          "text": [
            "[3, 5, 7, 9, 11, 13, 15, 17, 19, 21, 23, 25, 27, 29, 31, 33, 35, 37, 39, 41, 43, 45, 47, 49, 51, 53, 55, 57, 59, 61]\n"
          ]
        }
      ]
    }
  ]
}